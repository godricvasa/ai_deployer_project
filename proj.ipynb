{
 "cells": [
  {
   "cell_type": "code",
   "execution_count": 1,
   "metadata": {},
   "outputs": [
    {
     "data": {
      "text/plain": [
       "True"
      ]
     },
     "execution_count": 1,
     "metadata": {},
     "output_type": "execute_result"
    }
   ],
   "source": [
    "from dotenv import load_dotenv\n",
    "\n",
    "load_dotenv()"
   ]
  },
  {
   "cell_type": "code",
   "execution_count": 2,
   "metadata": {},
   "outputs": [],
   "source": [
    "from autogen_ext.models.openai import OpenAIChatCompletionClient\n",
    "\n",
    "model_client = OpenAIChatCompletionClient(\n",
    "    model=\"gpt-4o-mini\",\n",
    "   # api_key=os.environ.get(\"OPENAI_API_KEY\")\n",
    ")"
   ]
  },
  {
   "cell_type": "code",
   "execution_count": 3,
   "metadata": {},
   "outputs": [
    {
     "name": "stdout",
     "output_type": "stream",
     "text": [
      "finish_reason='stop' content='- **Entrepreneurial Ventures:** Elon Musk is known for founding and leading several high-profile companies, including Tesla, Inc., which revolutionized the electric vehicle market, and SpaceX, which aims to reduce space transportation costs and enable Mars colonization.\\n\\n- **Innovative Technologies:** Musk is a proponent of advanced technologies such as Neuralink, which focuses on brain-machine interfaces, and The Boring Company, which targets urban transportation challenges through tunneling solutions.' usage=RequestUsage(prompt_tokens=18, completion_tokens=93) cached=False logprobs=None thought=None\n"
     ]
    }
   ],
   "source": [
    "from autogen_core.models import UserMessage\n",
    "\n",
    "result = await model_client.create(\n",
    "    [UserMessage(content=\"Tell me about Elon Musk in 2 bullet points\", source=\"user\")]\n",
    "    )\n",
    "print(result)"
   ]
  },
  {
   "cell_type": "code",
   "execution_count": 4,
   "metadata": {},
   "outputs": [
    {
     "name": "stdout",
     "output_type": "stream",
     "text": [
      "{'flask': {'app': {'app.py': 'file', 'Dockerfile': 'file', 'requirements.txt': 'file'}, 'compose.yaml': 'file', 'README.md': 'file'}}\n"
     ]
    }
   ],
   "source": [
    "# folder getter\n",
    "\n",
    "import os\n",
    "\n",
    "def get_project_structure(project_path, max_depth=3):\n",
    "    \"\"\"\n",
    "    Recursively gets the structure of a project directory up to a given depth.\n",
    "\n",
    "    Args:\n",
    "        project_path (str): The path to the project directory.\n",
    "        max_depth (int): Maximum depth to traverse.\n",
    "\n",
    "    Returns:\n",
    "        dict: A dictionary representation of the project structure.\n",
    "    \"\"\"\n",
    "    def traverse(directory, depth):\n",
    "        if depth > max_depth:\n",
    "            return None  # Stop recursion at max depth\n",
    "        \n",
    "        structure = {}\n",
    "        try:\n",
    "            for item in os.listdir(directory):\n",
    "                item_path = os.path.join(directory, item)\n",
    "                if os.path.isdir(item_path):\n",
    "                    structure[item] = traverse(item_path, depth + 1)\n",
    "                else:\n",
    "                    structure[item] = \"file\"\n",
    "        except PermissionError:\n",
    "            structure[\"error\"] = \"Permission Denied\"\n",
    "        \n",
    "        return structure\n",
    "\n",
    "    return {os.path.basename(project_path): traverse(project_path, 1)}\n",
    "\n",
    "# Example usage\n",
    "project_path = \"C:\\\\Users\\\\vasanth.mu\\\\Desktop\\\\genai-training\\\\fin-5\\\\awesome-compose\\\\flask\"  # Change to your actual project path\n",
    "project_structure = get_project_structure(project_path)\n",
    "print(project_structure)\n"
   ]
  }
 ],
 "metadata": {
  "kernelspec": {
   "display_name": ".venv",
   "language": "python",
   "name": "python3"
  },
  "language_info": {
   "codemirror_mode": {
    "name": "ipython",
    "version": 3
   },
   "file_extension": ".py",
   "mimetype": "text/x-python",
   "name": "python",
   "nbconvert_exporter": "python",
   "pygments_lexer": "ipython3",
   "version": "3.12.9"
  }
 },
 "nbformat": 4,
 "nbformat_minor": 2
}
